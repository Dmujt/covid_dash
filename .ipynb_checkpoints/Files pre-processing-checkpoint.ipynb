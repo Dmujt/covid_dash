{
 "cells": [
  {
   "cell_type": "markdown",
   "metadata": {},
   "source": [
    "# Process mask-use-by-county and us-counties\n",
    "\n",
    "Mask data original format: \n",
    "- COUNTYFP: The county FIPS code.\n",
    "- NEVER: The estimated share of people in this county who would say never in response to the question “How often do you wear  a mask in public when you expect to be within six feet of another person?”\n",
    "- RARELY: The estimated share of people in this county who would say rarely\n",
    "- SOMETIMES: The estimated share of people in this county who would say sometimes\n",
    "- FREQUENTLY: The estimated share of people in this county who would say frequently\n",
    "- ALWAYS: The estimated share of people in this county who would say always\n",
    "\n",
    "Case county data original format:\n",
    " - date: date of reporting\n",
    " - county\n",
    " - state\n",
    " - fips: standard geographic identifier\n",
    " - cases: The total number of cases of Covid-19, including both confirmed and probable.\n",
    " - death: The total number of deaths from Covid-19, including both confirmed and probable."
   ]
  },
  {
   "cell_type": "code",
   "execution_count": 38,
   "metadata": {},
   "outputs": [],
   "source": [
    "import pandas as pd"
   ]
  },
  {
   "cell_type": "code",
   "execution_count": 42,
   "metadata": {},
   "outputs": [],
   "source": [
    "#open original files first\n",
    "\n",
    "dfCases =pd.read_csv(\"us-counties.csv\", sep=\",\")\n",
    "dfMasks =pd.read_csv(\"mask-use-by-county.csv\", sep=\",\")"
   ]
  },
  {
   "cell_type": "code",
   "execution_count": 43,
   "metadata": {},
   "outputs": [],
   "source": [
    "#process the mask data first\n",
    "#one file for all of U.S.\n",
    "\n",
    "def format_to(row, col='county'):\n",
    "    r = dfCases[dfCases['fips']==row['COUNTYFP']]\n",
    "    if not r.empty:\n",
    "        return (r.iloc[0][col])\n",
    "\n",
    "dfMasks['county'] = dfMasks.apply(lambda row: format_to(row), axis=1) \n",
    "dfMasks['state'] = dfMasks.apply(lambda row: format_to(row,'state'), axis=1) \n",
    "\n",
    "dfMasks.to_csv('mask-use-cleaned.csv')\n",
    "\n",
    "#another for just michigan\n",
    "dfMasks = dfMasks[dfMasks.state == \"Michigan\"]\n",
    "\n",
    "dfMasks.to_csv('mask-use-cleaned-michigan.csv')"
   ]
  },
  {
   "cell_type": "code",
   "execution_count": 44,
   "metadata": {},
   "outputs": [],
   "source": [
    "#format the deaths and cases files\n",
    "dfDeaths = dfCases.copy()\n",
    "\n",
    "del dfCases['deaths']\n",
    "del dfDeaths['cases']\n",
    "\n",
    "dfCases = dfCases[dfCases.state == \"Michigan\"]\n",
    "dfDeaths = dfDeaths[dfDeaths.state == \"Michigan\"]\n",
    "\n",
    "dfCases.to_csv('cases-michigan.csv')\n",
    "dfDeaths.to_csv('deaths-michigan.csv')"
   ]
  },
  {
   "cell_type": "code",
   "execution_count": null,
   "metadata": {},
   "outputs": [],
   "source": []
  }
 ],
 "metadata": {
  "kernelspec": {
   "display_name": "Python 3",
   "language": "python",
   "name": "python3"
  },
  "language_info": {
   "codemirror_mode": {
    "name": "ipython",
    "version": 3
   },
   "file_extension": ".py",
   "mimetype": "text/x-python",
   "name": "python",
   "nbconvert_exporter": "python",
   "pygments_lexer": "ipython3",
   "version": "3.7.6"
  }
 },
 "nbformat": 4,
 "nbformat_minor": 2
}
